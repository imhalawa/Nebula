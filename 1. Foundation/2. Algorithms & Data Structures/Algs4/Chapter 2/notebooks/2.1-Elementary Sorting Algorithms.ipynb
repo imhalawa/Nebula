{
 "cells": [
  {
   "cell_type": "markdown",
   "metadata": {},
   "source": [
    "# Elementary Sorting Algorithms"
   ]
  },
  {
   "cell_type": "markdown",
   "metadata": {},
   "source": [
    "## Selection Sort"
   ]
  },
  {
   "cell_type": "markdown",
   "metadata": {},
   "source": [
    "### Pseudo Code\n",
    "\n",
    "```text\n",
    "for i -> n\n",
    "    define smallest\n",
    "    for j=i -> n \n",
    "        find smmallest item in the array\n",
    "    Swap smallest with `ith` item\n",
    "```\n",
    "\n",
    "```text\n",
    "1-> Find the Smallest item in the array\n",
    "2-> Exchange (Swap) it with the first entry\n",
    "3-> Find the next Smallest item in the array\n",
    "4-> Exchange (Swap) it with the second entry\n",
    ".\n",
    ".\n",
    "F-> Keep going until the array is sorted\n",
    "```"
   ]
  },
  {
   "cell_type": "markdown",
   "metadata": {},
   "source": [
    "### Implementation"
   ]
  },
  {
   "cell_type": "code",
   "execution_count": null,
   "metadata": {
    "dotnet_interactive": {
     "language": "csharp"
    },
    "vscode": {
     "languageId": "dotnet-interactive.csharp"
    }
   },
   "outputs": [],
   "source": [
    "#r \"nuget: ObjectDumper.NET, 3.4.6\"\n",
    "using System;\n",
    "\n",
    "Client();\n",
    "\n",
    "public static void Client()\n",
    "{\n",
    "    int[] unsorted_array = { 8,9,2,78,5,4,6,3,34 };\n",
    "    int[] sortedArray = Sort(unsorted_array);\n",
    "    Console.WriteLine(ObjectDumper.Dump(sortedArray));\n",
    "}\n",
    "\n",
    "public static int[] Sort(int[] arr)\n",
    "{\n",
    "    int N = arr.Length;\n",
    "    for (int i = 0; i < N; i++)\n",
    "    {\n",
    "        // index of minimal enter\n",
    "        int min = i;\n",
    "\n",
    "        // Find Smallest Number in remaining sequence\n",
    "        for (int j = i; j < N; j++)\n",
    "        {\n",
    "            if (arr[j].CompareTo(arr[min]) < 0)\n",
    "            {\n",
    "                min = j;\n",
    "            }\n",
    "        }\n",
    "\n",
    "        // Swap with ith Element\n",
    "        Swap(ref arr[i], ref arr[min]);\n",
    "    }\n",
    "    return arr;\n",
    "}\n",
    "\n",
    "public static void Swap(ref int a, ref int b)\n",
    "{\n",
    "    (b, a) = (a, b);\n",
    "}"
   ]
  },
  {
   "cell_type": "markdown",
   "metadata": {},
   "source": [
    "### Time Complexity\n",
    "\n",
    "Selection Sort uses \n",
    "\n",
    "- Compares with Complexity of $$\\text{\\textasciitilde} N^2/2$$\n",
    "- Exchanges with complexity of $$N$$\n",
    "\n",
    "More precisely, examination of the code reveals that, for each i from 0 to N - 1, there is one exchange and $$N - 1 - i$$ compares,\n",
    "so the totals are N exchanges and $$(N - 1) + (N - 2) + . . . + 2 + 1+ 0 = N(N- 1) / 2 \\text{\\textasciitilde} N 2 / 2$$ compares."
   ]
  },
  {
   "cell_type": "markdown",
   "metadata": {
    "dotnet_interactive": {
     "language": "csharp"
    }
   },
   "source": [
    "### Signature Properties\n",
    "\n",
    "#### Running Time is insensitive to input\n",
    "    \n",
    "The process of finding the smallest item on one pass through the array does not give much information about where the smallest item might be on the next pass.\n",
    "\n",
    "this property can be disadvantageous in some situations. For example, the person using the sort client might be surprised to realize that it takes about as long to run selection sort for an array that is already in order or for an array with all keys equal as it does for a randomly-ordered array\n",
    "\n",
    "#### Data movement is minimal\n",
    "\n",
    "Each of the N exchanges changes the value of two array entries, so selection sort uses N exchanges—the number of array accesses is a linear function of the array size. None of the other sorting algorithms that we consider have this property (most involve linearithmic or quadratic growth)."
   ]
  }
 ],
 "metadata": {
  "kernelspec": {
   "display_name": ".NET (C#)",
   "language": "C#",
   "name": ".net-csharp"
  },
  "language_info": {
   "name": "C#"
  }
 },
 "nbformat": 4,
 "nbformat_minor": 2
}
